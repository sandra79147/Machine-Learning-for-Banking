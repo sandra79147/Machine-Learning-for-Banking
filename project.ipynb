{
 "cells": [
  {
   "cell_type": "markdown",
   "metadata": {},
   "source": [
    "<font size=\"3\"><strong>Link to task:</strong></font>  \n",
    "https://datahack.analyticsvidhya.com/contest/janatahack-machine-learning-for-banking/True/#ProblemStatement  \n",
    "\n",
    "<font size=\"3\"><strong>Description of the problem</strong></font>  \n",
    "Banks offer various kinds of accounts and provide loans based on the requirements.\n",
    "\n",
    "The process, defined as ‘risk-based pricing’, uses a sophisticated algorithm that leverages different determining factors of a loan applicant. Selection of significant factors will help develop a prediction algorithm which can estimate loan interest rates based on clients’ information. On one hand, knowing the factors will help consumers and borrowers to increase their credit worthiness and place themselves in a better position to negotiate for getting a lower interest rate. On the other hand, this will help lending companies to get an immediate fixed interest rate estimation based on clients information. Here, your goal is to use a training dataset to predict the loan rate category (1 / 2 / 3) that will be assigned to each loan in our test set.\n",
    "\n",
    "You can use any combination of the features in the dataset to make your loan rate category predictions. Some features will be easier to use than others.\n",
    "\n",
    "<font size=\"3\"><strong>My goal:</strong></font>\n",
    "The goal of problem is to predict the  loan rate rate categories (1-3) for each data based on the sets provided on the page. In this project I would like compare the accurancy of diffrent machine learning algorithms such as Logistic Regression, Decision Trees or Naive Bayesian classifier and select the best of them for this problem.\n",
    "\n",
    "<strong>Algorithms used:</strong> Logistic Regression, Decision Trees, Naive Bayesian classifier, Multiple imputation"
   ]
  },
  {
   "cell_type": "code",
   "execution_count": 153,
   "metadata": {},
   "outputs": [],
   "source": [
    "import miceforest as mf #provide Multiple imputation\n",
    "import pandas as pd\n",
    "import numpy as np\n",
    "import seaborn as sns\n",
    "import matplotlib.pyplot as plt"
   ]
  },
  {
   "cell_type": "code",
   "execution_count": 154,
   "metadata": {},
   "outputs": [
    {
     "data": {
      "text/html": [
       "<div>\n",
       "<style scoped>\n",
       "    .dataframe tbody tr th:only-of-type {\n",
       "        vertical-align: middle;\n",
       "    }\n",
       "\n",
       "    .dataframe tbody tr th {\n",
       "        vertical-align: top;\n",
       "    }\n",
       "\n",
       "    .dataframe thead th {\n",
       "        text-align: right;\n",
       "    }\n",
       "</style>\n",
       "<table border=\"1\" class=\"dataframe\">\n",
       "  <thead>\n",
       "    <tr style=\"text-align: right;\">\n",
       "      <th></th>\n",
       "      <th>Loan_ID</th>\n",
       "      <th>Loan_Amount_Requested</th>\n",
       "      <th>Length_Employed</th>\n",
       "      <th>Home_Owner</th>\n",
       "      <th>Annual_Income</th>\n",
       "      <th>Income_Verified</th>\n",
       "      <th>Purpose_Of_Loan</th>\n",
       "      <th>Debt_To_Income</th>\n",
       "      <th>Inquiries_Last_6Mo</th>\n",
       "      <th>Months_Since_Deliquency</th>\n",
       "      <th>Number_Open_Accounts</th>\n",
       "      <th>Total_Accounts</th>\n",
       "      <th>Gender</th>\n",
       "      <th>Interest_Rate</th>\n",
       "    </tr>\n",
       "  </thead>\n",
       "  <tbody>\n",
       "    <tr>\n",
       "      <th>0</th>\n",
       "      <td>10000001</td>\n",
       "      <td>7,000</td>\n",
       "      <td>&lt; 1 year</td>\n",
       "      <td>Rent</td>\n",
       "      <td>68000.0</td>\n",
       "      <td>not verified</td>\n",
       "      <td>car</td>\n",
       "      <td>18.37</td>\n",
       "      <td>0</td>\n",
       "      <td>NaN</td>\n",
       "      <td>9</td>\n",
       "      <td>14</td>\n",
       "      <td>Female</td>\n",
       "      <td>1</td>\n",
       "    </tr>\n",
       "    <tr>\n",
       "      <th>1</th>\n",
       "      <td>10000002</td>\n",
       "      <td>30,000</td>\n",
       "      <td>4 years</td>\n",
       "      <td>Mortgage</td>\n",
       "      <td>NaN</td>\n",
       "      <td>VERIFIED - income</td>\n",
       "      <td>debt_consolidation</td>\n",
       "      <td>14.93</td>\n",
       "      <td>0</td>\n",
       "      <td>17.0</td>\n",
       "      <td>12</td>\n",
       "      <td>24</td>\n",
       "      <td>Female</td>\n",
       "      <td>3</td>\n",
       "    </tr>\n",
       "    <tr>\n",
       "      <th>2</th>\n",
       "      <td>10000003</td>\n",
       "      <td>24,725</td>\n",
       "      <td>7 years</td>\n",
       "      <td>Mortgage</td>\n",
       "      <td>75566.4</td>\n",
       "      <td>VERIFIED - income source</td>\n",
       "      <td>debt_consolidation</td>\n",
       "      <td>15.88</td>\n",
       "      <td>0</td>\n",
       "      <td>NaN</td>\n",
       "      <td>12</td>\n",
       "      <td>16</td>\n",
       "      <td>Male</td>\n",
       "      <td>3</td>\n",
       "    </tr>\n",
       "    <tr>\n",
       "      <th>3</th>\n",
       "      <td>10000004</td>\n",
       "      <td>16,000</td>\n",
       "      <td>&lt; 1 year</td>\n",
       "      <td>NaN</td>\n",
       "      <td>56160.0</td>\n",
       "      <td>VERIFIED - income source</td>\n",
       "      <td>debt_consolidation</td>\n",
       "      <td>14.34</td>\n",
       "      <td>3</td>\n",
       "      <td>NaN</td>\n",
       "      <td>16</td>\n",
       "      <td>22</td>\n",
       "      <td>Male</td>\n",
       "      <td>3</td>\n",
       "    </tr>\n",
       "    <tr>\n",
       "      <th>4</th>\n",
       "      <td>10000005</td>\n",
       "      <td>17,000</td>\n",
       "      <td>8 years</td>\n",
       "      <td>Own</td>\n",
       "      <td>96000.0</td>\n",
       "      <td>VERIFIED - income source</td>\n",
       "      <td>debt_consolidation</td>\n",
       "      <td>22.17</td>\n",
       "      <td>1</td>\n",
       "      <td>NaN</td>\n",
       "      <td>19</td>\n",
       "      <td>30</td>\n",
       "      <td>Female</td>\n",
       "      <td>1</td>\n",
       "    </tr>\n",
       "  </tbody>\n",
       "</table>\n",
       "</div>"
      ],
      "text/plain": [
       "    Loan_ID Loan_Amount_Requested Length_Employed Home_Owner  Annual_Income  \\\n",
       "0  10000001                 7,000        < 1 year       Rent        68000.0   \n",
       "1  10000002                30,000         4 years   Mortgage            NaN   \n",
       "2  10000003                24,725         7 years   Mortgage        75566.4   \n",
       "3  10000004                16,000        < 1 year        NaN        56160.0   \n",
       "4  10000005                17,000         8 years        Own        96000.0   \n",
       "\n",
       "            Income_Verified     Purpose_Of_Loan  Debt_To_Income  \\\n",
       "0              not verified                 car           18.37   \n",
       "1         VERIFIED - income  debt_consolidation           14.93   \n",
       "2  VERIFIED - income source  debt_consolidation           15.88   \n",
       "3  VERIFIED - income source  debt_consolidation           14.34   \n",
       "4  VERIFIED - income source  debt_consolidation           22.17   \n",
       "\n",
       "   Inquiries_Last_6Mo  Months_Since_Deliquency  Number_Open_Accounts  \\\n",
       "0                   0                      NaN                     9   \n",
       "1                   0                     17.0                    12   \n",
       "2                   0                      NaN                    12   \n",
       "3                   3                      NaN                    16   \n",
       "4                   1                      NaN                    19   \n",
       "\n",
       "   Total_Accounts  Gender  Interest_Rate  \n",
       "0              14  Female              1  \n",
       "1              24  Female              3  \n",
       "2              16    Male              3  \n",
       "3              22    Male              3  \n",
       "4              30  Female              1  "
      ]
     },
     "execution_count": 154,
     "metadata": {},
     "output_type": "execute_result"
    }
   ],
   "source": [
    "#read the data and first look at data\n",
    "df = pd.read_csv(\"train_fNxu4vz.csv\")\n",
    "df.head()"
   ]
  },
  {
   "cell_type": "code",
   "execution_count": 155,
   "metadata": {},
   "outputs": [
    {
     "data": {
      "text/plain": [
       "Loan_ID                      int64\n",
       "Loan_Amount_Requested       object\n",
       "Length_Employed             object\n",
       "Home_Owner                  object\n",
       "Annual_Income              float64\n",
       "Income_Verified             object\n",
       "Purpose_Of_Loan             object\n",
       "Debt_To_Income             float64\n",
       "Inquiries_Last_6Mo           int64\n",
       "Months_Since_Deliquency    float64\n",
       "Number_Open_Accounts         int64\n",
       "Total_Accounts               int64\n",
       "Gender                      object\n",
       "Interest_Rate                int64\n",
       "dtype: object"
      ]
     },
     "execution_count": 155,
     "metadata": {},
     "output_type": "execute_result"
    }
   ],
   "source": [
    "df.dtypes"
   ]
  },
  {
   "cell_type": "code",
   "execution_count": 156,
   "metadata": {},
   "outputs": [
    {
     "name": "stdout",
     "output_type": "stream",
     "text": [
      "Loan_ID \n",
      " [10000001 10000002 10000003 ... 10164307 10164308 10164309] \n",
      "\n",
      "Loan_Amount_Requested \n",
      " ['7,000' '30,000' '24,725' ... '28,950' '33,325' '29,825'] \n",
      "\n",
      "Length_Employed \n",
      " ['< 1 year' '4 years' '7 years' '8 years' '2 years' '10+ years' '1 year'\n",
      " nan '6 years' '9 years' '3 years' '5 years'] \n",
      "\n",
      "Home_Owner \n",
      " ['Rent' 'Mortgage' nan 'Own' 'Other' 'None'] \n",
      "\n",
      "Annual_Income \n",
      " [68000.      nan 75566.4 ... 51024.  28721.4 24864. ] \n",
      "\n",
      "Income_Verified \n",
      " ['not verified' 'VERIFIED - income' 'VERIFIED - income source'] \n",
      "\n",
      "Purpose_Of_Loan \n",
      " ['car' 'debt_consolidation' 'credit_card' 'home_improvement'\n",
      " 'major_purchase' 'other' 'medical' 'small_business' 'moving' 'wedding'\n",
      " 'vacation' 'house' 'educational' 'renewable_energy'] \n",
      "\n",
      "Debt_To_Income \n",
      " [18.37 14.93 15.88 ... 38.03 39.04 35.06] \n",
      "\n",
      "Inquiries_Last_6Mo \n",
      " [0 3 1 2 4 5 6 7 8] \n",
      "\n",
      "Months_Since_Deliquency \n",
      " [ nan  17.  16.  68.  13.   6.  64.  10.  63.  33.  22.  28.   8.  26.\n",
      "  41.  46.  62.  21.  12.  52.   3.  65.  43.  53.  44.   1.  11.  71.\n",
      "  23.  15.  48.  39.  30.  32.  18.  24.  47.  66.  19.  76.   4.  29.\n",
      "  45.  38.  56.  37.  20.  35.   2.   9.  34.  14.  59.  36.  50.  81.\n",
      "  72.  69.  57.  25.   7.  49.  31.  78.  70.  27.   5.  51.  58.  75.\n",
      "  42.  74.  40.  67.  61.  55.  77.  54.   0.  60.  73.  79.  82.  80.\n",
      "  83.  88. 127. 106.  99.  97. 139.  96. 119. 116.  94. 141.  86.  91.\n",
      "  84.  85.  95.  90.  87. 103. 101. 121. 148.  93. 122.  92. 180. 105.\n",
      " 110. 129. 130. 135. 114. 102. 111.  98. 131. 107. 170.] \n",
      "\n",
      "Number_Open_Accounts \n",
      " [ 9 12 16 19 25  8 24  7  5 20 10 15  6 14 11 29  4 13 21  3 22 18 26 17\n",
      "  2 27 23 31 32 33 35 28 36 30 34 44 37 39  1 40  0 38 62 42 43 41 49 47\n",
      " 50 45 48 58 53 76 46 54 51 52] \n",
      "\n",
      "Total_Accounts \n",
      " [ 14  24  16  22  30  15  12  31   9  43  13  17  28  26  21  20  34  27\n",
      "  10  44  25   8   7  19  41  18  11  65   6  29  23  37  32  45  38  36\n",
      "  71  40  42  51  53  35  47  39  54  46  33  58  49  59  62   4  69  60\n",
      "  52  56  48   5  63   3  50  55  61  57  64  76   2  75  67  66  70  77\n",
      "  86  68  72  90  89  81  98  73 105  74  79  85  82  80  93  78  87  88\n",
      "  91  84  83  94 156 102 116  97  92  99] \n",
      "\n",
      "Gender \n",
      " ['Female' 'Male'] \n",
      "\n",
      "Interest_Rate \n",
      " [1 3 2] \n",
      "\n"
     ]
    }
   ],
   "source": [
    "#print unique value for each variable\n",
    "for column in df.columns:\n",
    "    if isinstance(column, object):\n",
    "        print(column, \"\\n\", df[column].unique(), \"\\n\")"
   ]
  },
  {
   "cell_type": "code",
   "execution_count": 157,
   "metadata": {},
   "outputs": [],
   "source": [
    "#Loan_Amount_Requested is a numerical variable, but written as: for example 7,000 and this must be converted to 7000\n",
    "#covert to numerical values\n",
    "series = df[\"Loan_Amount_Requested\"]\n",
    "s = series.str.contains(',', regex=False)\n",
    "\n",
    "df[\"Loan_Amount_Requested\"] = df[\"Loan_Amount_Requested\"].str.replace(\",\",\"\")\n",
    "df[\"Loan_Amount_Requested\"] = pd.to_numeric(df[\"Loan_Amount_Requested\"])\n",
    "\n",
    "df[\"Annual_Income\"] = pd.to_numeric(df[\"Annual_Income\"])\n",
    "df[\"Debt_To_Income\"] = pd.to_numeric(df[\"Debt_To_Income\"])\n",
    "df[\"Inquiries_Last_6Mo\"] = pd.to_numeric(df[\"Inquiries_Last_6Mo\"])\n",
    "df[\"Months_Since_Deliquency\"] = pd.to_numeric(df[\"Months_Since_Deliquency\"])\n",
    "df[\"Number_Open_Accounts\"] = pd.to_numeric(df[\"Number_Open_Accounts\"])\n",
    "df[\"Total_Accounts\"] = pd.to_numeric(df[\"Total_Accounts\"])"
   ]
  },
  {
   "cell_type": "code",
   "execution_count": 158,
   "metadata": {},
   "outputs": [],
   "source": [
    "df[\"Loan_ID\"] = pd.to_numeric(df[\"Loan_ID\"])\n",
    "df[\"Loan_ID\"] = pd.to_numeric(df[\"Loan_ID\"])"
   ]
  },
  {
   "cell_type": "code",
   "execution_count": 159,
   "metadata": {},
   "outputs": [],
   "source": [
    "df = df.replace({'Length_Employed': {'< 1 year': 0, '1 year': 1, '2 years': 2,'3 years': 3,\n",
    "                                '4 years': 4, '5 years': 5, '6 years': 6, '7 years': 7,\n",
    "                                '8 years': 8, '9 years': 9, '10+ years': 10 }, \n",
    "                 \"Home_Owner\": {'Mortgage': 0, 'Rent': 1, 'Own': 2, 'Other': 3, 'None': 4, None: 4},\n",
    "                 \"Gender\": {'Female':0, 'Male':1 }\n",
    "                }\n",
    "               )"
   ]
  },
  {
   "cell_type": "code",
   "execution_count": 160,
   "metadata": {},
   "outputs": [
    {
     "data": {
      "text/html": [
       "<div>\n",
       "<style scoped>\n",
       "    .dataframe tbody tr th:only-of-type {\n",
       "        vertical-align: middle;\n",
       "    }\n",
       "\n",
       "    .dataframe tbody tr th {\n",
       "        vertical-align: top;\n",
       "    }\n",
       "\n",
       "    .dataframe thead th {\n",
       "        text-align: right;\n",
       "    }\n",
       "</style>\n",
       "<table border=\"1\" class=\"dataframe\">\n",
       "  <thead>\n",
       "    <tr style=\"text-align: right;\">\n",
       "      <th></th>\n",
       "      <th>Loan_ID</th>\n",
       "      <th>Loan_Amount_Requested</th>\n",
       "      <th>Length_Employed</th>\n",
       "      <th>Home_Owner</th>\n",
       "      <th>Annual_Income</th>\n",
       "      <th>Debt_To_Income</th>\n",
       "      <th>Inquiries_Last_6Mo</th>\n",
       "      <th>Months_Since_Deliquency</th>\n",
       "      <th>Number_Open_Accounts</th>\n",
       "      <th>Total_Accounts</th>\n",
       "      <th>Gender</th>\n",
       "      <th>Interest_Rate</th>\n",
       "    </tr>\n",
       "  </thead>\n",
       "  <tbody>\n",
       "    <tr>\n",
       "      <th>Loan_ID</th>\n",
       "      <td>1.000000</td>\n",
       "      <td>0.001305</td>\n",
       "      <td>0.000152</td>\n",
       "      <td>-0.001693</td>\n",
       "      <td>0.008326</td>\n",
       "      <td>-0.001320</td>\n",
       "      <td>0.002593</td>\n",
       "      <td>0.002111</td>\n",
       "      <td>0.004626</td>\n",
       "      <td>0.005331</td>\n",
       "      <td>0.003377</td>\n",
       "      <td>0.001290</td>\n",
       "    </tr>\n",
       "    <tr>\n",
       "      <th>Loan_Amount_Requested</th>\n",
       "      <td>0.001305</td>\n",
       "      <td>1.000000</td>\n",
       "      <td>0.119178</td>\n",
       "      <td>-0.072685</td>\n",
       "      <td>0.337695</td>\n",
       "      <td>0.058314</td>\n",
       "      <td>-0.007659</td>\n",
       "      <td>-0.044224</td>\n",
       "      <td>0.203087</td>\n",
       "      <td>0.233424</td>\n",
       "      <td>0.001468</td>\n",
       "      <td>0.132486</td>\n",
       "    </tr>\n",
       "    <tr>\n",
       "      <th>Length_Employed</th>\n",
       "      <td>0.000152</td>\n",
       "      <td>0.119178</td>\n",
       "      <td>1.000000</td>\n",
       "      <td>-0.055969</td>\n",
       "      <td>0.069505</td>\n",
       "      <td>0.049020</td>\n",
       "      <td>-0.006522</td>\n",
       "      <td>-0.012635</td>\n",
       "      <td>0.037321</td>\n",
       "      <td>0.111460</td>\n",
       "      <td>-0.000136</td>\n",
       "      <td>0.030404</td>\n",
       "    </tr>\n",
       "    <tr>\n",
       "      <th>Home_Owner</th>\n",
       "      <td>-0.001693</td>\n",
       "      <td>-0.072685</td>\n",
       "      <td>-0.055969</td>\n",
       "      <td>1.000000</td>\n",
       "      <td>-0.061771</td>\n",
       "      <td>0.009191</td>\n",
       "      <td>-0.016566</td>\n",
       "      <td>0.020010</td>\n",
       "      <td>-0.046803</td>\n",
       "      <td>-0.077248</td>\n",
       "      <td>-0.001086</td>\n",
       "      <td>0.021578</td>\n",
       "    </tr>\n",
       "    <tr>\n",
       "      <th>Annual_Income</th>\n",
       "      <td>0.008326</td>\n",
       "      <td>0.337695</td>\n",
       "      <td>0.069505</td>\n",
       "      <td>-0.061771</td>\n",
       "      <td>1.000000</td>\n",
       "      <td>-0.173589</td>\n",
       "      <td>0.060011</td>\n",
       "      <td>-0.057804</td>\n",
       "      <td>0.145822</td>\n",
       "      <td>0.203237</td>\n",
       "      <td>0.001538</td>\n",
       "      <td>-0.052783</td>\n",
       "    </tr>\n",
       "    <tr>\n",
       "      <th>Debt_To_Income</th>\n",
       "      <td>-0.001320</td>\n",
       "      <td>0.058314</td>\n",
       "      <td>0.049020</td>\n",
       "      <td>0.009191</td>\n",
       "      <td>-0.173589</td>\n",
       "      <td>1.000000</td>\n",
       "      <td>-0.005142</td>\n",
       "      <td>0.006394</td>\n",
       "      <td>0.302442</td>\n",
       "      <td>0.229871</td>\n",
       "      <td>-0.000392</td>\n",
       "      <td>0.152472</td>\n",
       "    </tr>\n",
       "    <tr>\n",
       "      <th>Inquiries_Last_6Mo</th>\n",
       "      <td>0.002593</td>\n",
       "      <td>-0.007659</td>\n",
       "      <td>-0.006522</td>\n",
       "      <td>-0.016566</td>\n",
       "      <td>0.060011</td>\n",
       "      <td>-0.005142</td>\n",
       "      <td>1.000000</td>\n",
       "      <td>0.011971</td>\n",
       "      <td>0.100930</td>\n",
       "      <td>0.131467</td>\n",
       "      <td>0.000556</td>\n",
       "      <td>0.188987</td>\n",
       "    </tr>\n",
       "    <tr>\n",
       "      <th>Months_Since_Deliquency</th>\n",
       "      <td>0.002111</td>\n",
       "      <td>-0.044224</td>\n",
       "      <td>-0.012635</td>\n",
       "      <td>0.020010</td>\n",
       "      <td>-0.057804</td>\n",
       "      <td>0.006394</td>\n",
       "      <td>0.011971</td>\n",
       "      <td>1.000000</td>\n",
       "      <td>-0.049683</td>\n",
       "      <td>-0.062261</td>\n",
       "      <td>-0.000934</td>\n",
       "      <td>-0.042108</td>\n",
       "    </tr>\n",
       "    <tr>\n",
       "      <th>Number_Open_Accounts</th>\n",
       "      <td>0.004626</td>\n",
       "      <td>0.203087</td>\n",
       "      <td>0.037321</td>\n",
       "      <td>-0.046803</td>\n",
       "      <td>0.145822</td>\n",
       "      <td>0.302442</td>\n",
       "      <td>0.100930</td>\n",
       "      <td>-0.049683</td>\n",
       "      <td>1.000000</td>\n",
       "      <td>0.682137</td>\n",
       "      <td>0.001292</td>\n",
       "      <td>0.002847</td>\n",
       "    </tr>\n",
       "    <tr>\n",
       "      <th>Total_Accounts</th>\n",
       "      <td>0.005331</td>\n",
       "      <td>0.233424</td>\n",
       "      <td>0.111460</td>\n",
       "      <td>-0.077248</td>\n",
       "      <td>0.203237</td>\n",
       "      <td>0.229871</td>\n",
       "      <td>0.131467</td>\n",
       "      <td>-0.062261</td>\n",
       "      <td>0.682137</td>\n",
       "      <td>1.000000</td>\n",
       "      <td>0.003024</td>\n",
       "      <td>-0.040690</td>\n",
       "    </tr>\n",
       "    <tr>\n",
       "      <th>Gender</th>\n",
       "      <td>0.003377</td>\n",
       "      <td>0.001468</td>\n",
       "      <td>-0.000136</td>\n",
       "      <td>-0.001086</td>\n",
       "      <td>0.001538</td>\n",
       "      <td>-0.000392</td>\n",
       "      <td>0.000556</td>\n",
       "      <td>-0.000934</td>\n",
       "      <td>0.001292</td>\n",
       "      <td>0.003024</td>\n",
       "      <td>1.000000</td>\n",
       "      <td>0.002038</td>\n",
       "    </tr>\n",
       "    <tr>\n",
       "      <th>Interest_Rate</th>\n",
       "      <td>0.001290</td>\n",
       "      <td>0.132486</td>\n",
       "      <td>0.030404</td>\n",
       "      <td>0.021578</td>\n",
       "      <td>-0.052783</td>\n",
       "      <td>0.152472</td>\n",
       "      <td>0.188987</td>\n",
       "      <td>-0.042108</td>\n",
       "      <td>0.002847</td>\n",
       "      <td>-0.040690</td>\n",
       "      <td>0.002038</td>\n",
       "      <td>1.000000</td>\n",
       "    </tr>\n",
       "  </tbody>\n",
       "</table>\n",
       "</div>"
      ],
      "text/plain": [
       "                          Loan_ID  Loan_Amount_Requested  Length_Employed  \\\n",
       "Loan_ID                  1.000000               0.001305         0.000152   \n",
       "Loan_Amount_Requested    0.001305               1.000000         0.119178   \n",
       "Length_Employed          0.000152               0.119178         1.000000   \n",
       "Home_Owner              -0.001693              -0.072685        -0.055969   \n",
       "Annual_Income            0.008326               0.337695         0.069505   \n",
       "Debt_To_Income          -0.001320               0.058314         0.049020   \n",
       "Inquiries_Last_6Mo       0.002593              -0.007659        -0.006522   \n",
       "Months_Since_Deliquency  0.002111              -0.044224        -0.012635   \n",
       "Number_Open_Accounts     0.004626               0.203087         0.037321   \n",
       "Total_Accounts           0.005331               0.233424         0.111460   \n",
       "Gender                   0.003377               0.001468        -0.000136   \n",
       "Interest_Rate            0.001290               0.132486         0.030404   \n",
       "\n",
       "                         Home_Owner  Annual_Income  Debt_To_Income  \\\n",
       "Loan_ID                   -0.001693       0.008326       -0.001320   \n",
       "Loan_Amount_Requested     -0.072685       0.337695        0.058314   \n",
       "Length_Employed           -0.055969       0.069505        0.049020   \n",
       "Home_Owner                 1.000000      -0.061771        0.009191   \n",
       "Annual_Income             -0.061771       1.000000       -0.173589   \n",
       "Debt_To_Income             0.009191      -0.173589        1.000000   \n",
       "Inquiries_Last_6Mo        -0.016566       0.060011       -0.005142   \n",
       "Months_Since_Deliquency    0.020010      -0.057804        0.006394   \n",
       "Number_Open_Accounts      -0.046803       0.145822        0.302442   \n",
       "Total_Accounts            -0.077248       0.203237        0.229871   \n",
       "Gender                    -0.001086       0.001538       -0.000392   \n",
       "Interest_Rate              0.021578      -0.052783        0.152472   \n",
       "\n",
       "                         Inquiries_Last_6Mo  Months_Since_Deliquency  \\\n",
       "Loan_ID                            0.002593                 0.002111   \n",
       "Loan_Amount_Requested             -0.007659                -0.044224   \n",
       "Length_Employed                   -0.006522                -0.012635   \n",
       "Home_Owner                        -0.016566                 0.020010   \n",
       "Annual_Income                      0.060011                -0.057804   \n",
       "Debt_To_Income                    -0.005142                 0.006394   \n",
       "Inquiries_Last_6Mo                 1.000000                 0.011971   \n",
       "Months_Since_Deliquency            0.011971                 1.000000   \n",
       "Number_Open_Accounts               0.100930                -0.049683   \n",
       "Total_Accounts                     0.131467                -0.062261   \n",
       "Gender                             0.000556                -0.000934   \n",
       "Interest_Rate                      0.188987                -0.042108   \n",
       "\n",
       "                         Number_Open_Accounts  Total_Accounts    Gender  \\\n",
       "Loan_ID                              0.004626        0.005331  0.003377   \n",
       "Loan_Amount_Requested                0.203087        0.233424  0.001468   \n",
       "Length_Employed                      0.037321        0.111460 -0.000136   \n",
       "Home_Owner                          -0.046803       -0.077248 -0.001086   \n",
       "Annual_Income                        0.145822        0.203237  0.001538   \n",
       "Debt_To_Income                       0.302442        0.229871 -0.000392   \n",
       "Inquiries_Last_6Mo                   0.100930        0.131467  0.000556   \n",
       "Months_Since_Deliquency             -0.049683       -0.062261 -0.000934   \n",
       "Number_Open_Accounts                 1.000000        0.682137  0.001292   \n",
       "Total_Accounts                       0.682137        1.000000  0.003024   \n",
       "Gender                               0.001292        0.003024  1.000000   \n",
       "Interest_Rate                        0.002847       -0.040690  0.002038   \n",
       "\n",
       "                         Interest_Rate  \n",
       "Loan_ID                       0.001290  \n",
       "Loan_Amount_Requested         0.132486  \n",
       "Length_Employed               0.030404  \n",
       "Home_Owner                    0.021578  \n",
       "Annual_Income                -0.052783  \n",
       "Debt_To_Income                0.152472  \n",
       "Inquiries_Last_6Mo            0.188987  \n",
       "Months_Since_Deliquency      -0.042108  \n",
       "Number_Open_Accounts          0.002847  \n",
       "Total_Accounts               -0.040690  \n",
       "Gender                        0.002038  \n",
       "Interest_Rate                 1.000000  "
      ]
     },
     "execution_count": 160,
     "metadata": {},
     "output_type": "execute_result"
    }
   ],
   "source": [
    "#perform a correlation matrix\n",
    "df.corr()"
   ]
  },
  {
   "cell_type": "code",
   "execution_count": 161,
   "metadata": {},
   "outputs": [],
   "source": [
    "#Perform categorical variables as 0 and 1\n",
    "df = pd.get_dummies(df, columns = [\"Purpose_Of_Loan\",\"Income_Verified\"])"
   ]
  },
  {
   "cell_type": "code",
   "execution_count": 162,
   "metadata": {
    "scrolled": true
   },
   "outputs": [
    {
     "name": "stdout",
     "output_type": "stream",
     "text": [
      "164309 \n",
      "\n",
      "Loan_ID                                         0\n",
      "Loan_Amount_Requested                           0\n",
      "Length_Employed                              7371\n",
      "Home_Owner                                      0\n",
      "Annual_Income                               25102\n",
      "Debt_To_Income                                  0\n",
      "Inquiries_Last_6Mo                              0\n",
      "Months_Since_Deliquency                     88379\n",
      "Number_Open_Accounts                            0\n",
      "Total_Accounts                                  0\n",
      "Gender                                          0\n",
      "Interest_Rate                                   0\n",
      "Purpose_Of_Loan_car                             0\n",
      "Purpose_Of_Loan_credit_card                     0\n",
      "Purpose_Of_Loan_debt_consolidation              0\n",
      "Purpose_Of_Loan_educational                     0\n",
      "Purpose_Of_Loan_home_improvement                0\n",
      "Purpose_Of_Loan_house                           0\n",
      "Purpose_Of_Loan_major_purchase                  0\n",
      "Purpose_Of_Loan_medical                         0\n",
      "Purpose_Of_Loan_moving                          0\n",
      "Purpose_Of_Loan_other                           0\n",
      "Purpose_Of_Loan_renewable_energy                0\n",
      "Purpose_Of_Loan_small_business                  0\n",
      "Purpose_Of_Loan_vacation                        0\n",
      "Purpose_Of_Loan_wedding                         0\n",
      "Income_Verified_VERIFIED - income               0\n",
      "Income_Verified_VERIFIED - income source        0\n",
      "Income_Verified_not verified                    0\n",
      "dtype: int64\n"
     ]
    }
   ],
   "source": [
    "#data set contains many missing value so it's a good idea to imput them\n",
    "print(len(df), \"\\n\")\n",
    "print(df.isna().sum())"
   ]
  },
  {
   "cell_type": "code",
   "execution_count": 163,
   "metadata": {},
   "outputs": [
    {
     "data": {
      "text/html": [
       "<div>\n",
       "<style scoped>\n",
       "    .dataframe tbody tr th:only-of-type {\n",
       "        vertical-align: middle;\n",
       "    }\n",
       "\n",
       "    .dataframe tbody tr th {\n",
       "        vertical-align: top;\n",
       "    }\n",
       "\n",
       "    .dataframe thead th {\n",
       "        text-align: right;\n",
       "    }\n",
       "</style>\n",
       "<table border=\"1\" class=\"dataframe\">\n",
       "  <thead>\n",
       "    <tr style=\"text-align: right;\">\n",
       "      <th></th>\n",
       "      <th>Loan_ID</th>\n",
       "      <th>Loan_Amount_Requested</th>\n",
       "      <th>Length_Employed</th>\n",
       "      <th>Home_Owner</th>\n",
       "      <th>Annual_Income</th>\n",
       "      <th>Debt_To_Income</th>\n",
       "      <th>Inquiries_Last_6Mo</th>\n",
       "      <th>Months_Since_Deliquency</th>\n",
       "      <th>Number_Open_Accounts</th>\n",
       "      <th>Total_Accounts</th>\n",
       "      <th>...</th>\n",
       "      <th>Purpose_Of_Loan_medical</th>\n",
       "      <th>Purpose_Of_Loan_moving</th>\n",
       "      <th>Purpose_Of_Loan_other</th>\n",
       "      <th>Purpose_Of_Loan_renewable_energy</th>\n",
       "      <th>Purpose_Of_Loan_small_business</th>\n",
       "      <th>Purpose_Of_Loan_vacation</th>\n",
       "      <th>Purpose_Of_Loan_wedding</th>\n",
       "      <th>Income_Verified_VERIFIED - income</th>\n",
       "      <th>Income_Verified_VERIFIED - income source</th>\n",
       "      <th>Income_Verified_not verified</th>\n",
       "    </tr>\n",
       "  </thead>\n",
       "  <tbody>\n",
       "    <tr>\n",
       "      <th>count</th>\n",
       "      <td>1.643090e+05</td>\n",
       "      <td>164309.00000</td>\n",
       "      <td>156938.000000</td>\n",
       "      <td>164309.000000</td>\n",
       "      <td>1.392070e+05</td>\n",
       "      <td>164309.000000</td>\n",
       "      <td>164309.000000</td>\n",
       "      <td>75930.000000</td>\n",
       "      <td>164309.000000</td>\n",
       "      <td>164309.000000</td>\n",
       "      <td>...</td>\n",
       "      <td>164309.000000</td>\n",
       "      <td>164309.000000</td>\n",
       "      <td>164309.000000</td>\n",
       "      <td>164309.000000</td>\n",
       "      <td>164309.000000</td>\n",
       "      <td>164309.000000</td>\n",
       "      <td>164309.000000</td>\n",
       "      <td>164309.000000</td>\n",
       "      <td>164309.000000</td>\n",
       "      <td>164309.000000</td>\n",
       "    </tr>\n",
       "    <tr>\n",
       "      <th>mean</th>\n",
       "      <td>1.008216e+07</td>\n",
       "      <td>14349.33692</td>\n",
       "      <td>5.993201</td>\n",
       "      <td>1.111710</td>\n",
       "      <td>7.333116e+04</td>\n",
       "      <td>17.207189</td>\n",
       "      <td>0.781698</td>\n",
       "      <td>34.229356</td>\n",
       "      <td>11.193818</td>\n",
       "      <td>25.067665</td>\n",
       "      <td>...</td>\n",
       "      <td>0.009379</td>\n",
       "      <td>0.005928</td>\n",
       "      <td>0.050795</td>\n",
       "      <td>0.000749</td>\n",
       "      <td>0.014558</td>\n",
       "      <td>0.005094</td>\n",
       "      <td>0.005039</td>\n",
       "      <td>0.361642</td>\n",
       "      <td>0.322654</td>\n",
       "      <td>0.315704</td>\n",
       "    </tr>\n",
       "    <tr>\n",
       "      <th>std</th>\n",
       "      <td>4.743207e+04</td>\n",
       "      <td>8281.86870</td>\n",
       "      <td>3.628592</td>\n",
       "      <td>1.371902</td>\n",
       "      <td>6.037750e+04</td>\n",
       "      <td>7.845083</td>\n",
       "      <td>1.034747</td>\n",
       "      <td>21.761180</td>\n",
       "      <td>4.991813</td>\n",
       "      <td>11.583067</td>\n",
       "      <td>...</td>\n",
       "      <td>0.096389</td>\n",
       "      <td>0.076764</td>\n",
       "      <td>0.219579</td>\n",
       "      <td>0.027350</td>\n",
       "      <td>0.119775</td>\n",
       "      <td>0.071191</td>\n",
       "      <td>0.070809</td>\n",
       "      <td>0.480477</td>\n",
       "      <td>0.467493</td>\n",
       "      <td>0.464797</td>\n",
       "    </tr>\n",
       "    <tr>\n",
       "      <th>min</th>\n",
       "      <td>1.000000e+07</td>\n",
       "      <td>500.00000</td>\n",
       "      <td>0.000000</td>\n",
       "      <td>0.000000</td>\n",
       "      <td>4.000000e+03</td>\n",
       "      <td>0.000000</td>\n",
       "      <td>0.000000</td>\n",
       "      <td>0.000000</td>\n",
       "      <td>0.000000</td>\n",
       "      <td>2.000000</td>\n",
       "      <td>...</td>\n",
       "      <td>0.000000</td>\n",
       "      <td>0.000000</td>\n",
       "      <td>0.000000</td>\n",
       "      <td>0.000000</td>\n",
       "      <td>0.000000</td>\n",
       "      <td>0.000000</td>\n",
       "      <td>0.000000</td>\n",
       "      <td>0.000000</td>\n",
       "      <td>0.000000</td>\n",
       "      <td>0.000000</td>\n",
       "    </tr>\n",
       "    <tr>\n",
       "      <th>25%</th>\n",
       "      <td>1.004108e+07</td>\n",
       "      <td>8000.00000</td>\n",
       "      <td>3.000000</td>\n",
       "      <td>0.000000</td>\n",
       "      <td>4.500000e+04</td>\n",
       "      <td>11.370000</td>\n",
       "      <td>0.000000</td>\n",
       "      <td>16.000000</td>\n",
       "      <td>8.000000</td>\n",
       "      <td>17.000000</td>\n",
       "      <td>...</td>\n",
       "      <td>0.000000</td>\n",
       "      <td>0.000000</td>\n",
       "      <td>0.000000</td>\n",
       "      <td>0.000000</td>\n",
       "      <td>0.000000</td>\n",
       "      <td>0.000000</td>\n",
       "      <td>0.000000</td>\n",
       "      <td>0.000000</td>\n",
       "      <td>0.000000</td>\n",
       "      <td>0.000000</td>\n",
       "    </tr>\n",
       "    <tr>\n",
       "      <th>50%</th>\n",
       "      <td>1.008216e+07</td>\n",
       "      <td>12075.00000</td>\n",
       "      <td>6.000000</td>\n",
       "      <td>1.000000</td>\n",
       "      <td>6.300000e+04</td>\n",
       "      <td>16.840000</td>\n",
       "      <td>0.000000</td>\n",
       "      <td>31.000000</td>\n",
       "      <td>10.000000</td>\n",
       "      <td>23.000000</td>\n",
       "      <td>...</td>\n",
       "      <td>0.000000</td>\n",
       "      <td>0.000000</td>\n",
       "      <td>0.000000</td>\n",
       "      <td>0.000000</td>\n",
       "      <td>0.000000</td>\n",
       "      <td>0.000000</td>\n",
       "      <td>0.000000</td>\n",
       "      <td>0.000000</td>\n",
       "      <td>0.000000</td>\n",
       "      <td>0.000000</td>\n",
       "    </tr>\n",
       "    <tr>\n",
       "      <th>75%</th>\n",
       "      <td>1.012323e+07</td>\n",
       "      <td>20000.00000</td>\n",
       "      <td>10.000000</td>\n",
       "      <td>1.000000</td>\n",
       "      <td>8.869750e+04</td>\n",
       "      <td>22.780000</td>\n",
       "      <td>1.000000</td>\n",
       "      <td>50.000000</td>\n",
       "      <td>14.000000</td>\n",
       "      <td>32.000000</td>\n",
       "      <td>...</td>\n",
       "      <td>0.000000</td>\n",
       "      <td>0.000000</td>\n",
       "      <td>0.000000</td>\n",
       "      <td>0.000000</td>\n",
       "      <td>0.000000</td>\n",
       "      <td>0.000000</td>\n",
       "      <td>0.000000</td>\n",
       "      <td>1.000000</td>\n",
       "      <td>1.000000</td>\n",
       "      <td>1.000000</td>\n",
       "    </tr>\n",
       "    <tr>\n",
       "      <th>max</th>\n",
       "      <td>1.016431e+07</td>\n",
       "      <td>35000.00000</td>\n",
       "      <td>10.000000</td>\n",
       "      <td>4.000000</td>\n",
       "      <td>7.500000e+06</td>\n",
       "      <td>39.990000</td>\n",
       "      <td>8.000000</td>\n",
       "      <td>180.000000</td>\n",
       "      <td>76.000000</td>\n",
       "      <td>156.000000</td>\n",
       "      <td>...</td>\n",
       "      <td>1.000000</td>\n",
       "      <td>1.000000</td>\n",
       "      <td>1.000000</td>\n",
       "      <td>1.000000</td>\n",
       "      <td>1.000000</td>\n",
       "      <td>1.000000</td>\n",
       "      <td>1.000000</td>\n",
       "      <td>1.000000</td>\n",
       "      <td>1.000000</td>\n",
       "      <td>1.000000</td>\n",
       "    </tr>\n",
       "  </tbody>\n",
       "</table>\n",
       "<p>8 rows × 29 columns</p>\n",
       "</div>"
      ],
      "text/plain": [
       "            Loan_ID  Loan_Amount_Requested  Length_Employed     Home_Owner  \\\n",
       "count  1.643090e+05           164309.00000    156938.000000  164309.000000   \n",
       "mean   1.008216e+07            14349.33692         5.993201       1.111710   \n",
       "std    4.743207e+04             8281.86870         3.628592       1.371902   \n",
       "min    1.000000e+07              500.00000         0.000000       0.000000   \n",
       "25%    1.004108e+07             8000.00000         3.000000       0.000000   \n",
       "50%    1.008216e+07            12075.00000         6.000000       1.000000   \n",
       "75%    1.012323e+07            20000.00000        10.000000       1.000000   \n",
       "max    1.016431e+07            35000.00000        10.000000       4.000000   \n",
       "\n",
       "       Annual_Income  Debt_To_Income  Inquiries_Last_6Mo  \\\n",
       "count   1.392070e+05   164309.000000       164309.000000   \n",
       "mean    7.333116e+04       17.207189            0.781698   \n",
       "std     6.037750e+04        7.845083            1.034747   \n",
       "min     4.000000e+03        0.000000            0.000000   \n",
       "25%     4.500000e+04       11.370000            0.000000   \n",
       "50%     6.300000e+04       16.840000            0.000000   \n",
       "75%     8.869750e+04       22.780000            1.000000   \n",
       "max     7.500000e+06       39.990000            8.000000   \n",
       "\n",
       "       Months_Since_Deliquency  Number_Open_Accounts  Total_Accounts  ...  \\\n",
       "count             75930.000000         164309.000000   164309.000000  ...   \n",
       "mean                 34.229356             11.193818       25.067665  ...   \n",
       "std                  21.761180              4.991813       11.583067  ...   \n",
       "min                   0.000000              0.000000        2.000000  ...   \n",
       "25%                  16.000000              8.000000       17.000000  ...   \n",
       "50%                  31.000000             10.000000       23.000000  ...   \n",
       "75%                  50.000000             14.000000       32.000000  ...   \n",
       "max                 180.000000             76.000000      156.000000  ...   \n",
       "\n",
       "       Purpose_Of_Loan_medical  Purpose_Of_Loan_moving  Purpose_Of_Loan_other  \\\n",
       "count            164309.000000           164309.000000          164309.000000   \n",
       "mean                  0.009379                0.005928               0.050795   \n",
       "std                   0.096389                0.076764               0.219579   \n",
       "min                   0.000000                0.000000               0.000000   \n",
       "25%                   0.000000                0.000000               0.000000   \n",
       "50%                   0.000000                0.000000               0.000000   \n",
       "75%                   0.000000                0.000000               0.000000   \n",
       "max                   1.000000                1.000000               1.000000   \n",
       "\n",
       "       Purpose_Of_Loan_renewable_energy  Purpose_Of_Loan_small_business  \\\n",
       "count                     164309.000000                   164309.000000   \n",
       "mean                           0.000749                        0.014558   \n",
       "std                            0.027350                        0.119775   \n",
       "min                            0.000000                        0.000000   \n",
       "25%                            0.000000                        0.000000   \n",
       "50%                            0.000000                        0.000000   \n",
       "75%                            0.000000                        0.000000   \n",
       "max                            1.000000                        1.000000   \n",
       "\n",
       "       Purpose_Of_Loan_vacation  Purpose_Of_Loan_wedding  \\\n",
       "count             164309.000000            164309.000000   \n",
       "mean                   0.005094                 0.005039   \n",
       "std                    0.071191                 0.070809   \n",
       "min                    0.000000                 0.000000   \n",
       "25%                    0.000000                 0.000000   \n",
       "50%                    0.000000                 0.000000   \n",
       "75%                    0.000000                 0.000000   \n",
       "max                    1.000000                 1.000000   \n",
       "\n",
       "       Income_Verified_VERIFIED - income  \\\n",
       "count                      164309.000000   \n",
       "mean                            0.361642   \n",
       "std                             0.480477   \n",
       "min                             0.000000   \n",
       "25%                             0.000000   \n",
       "50%                             0.000000   \n",
       "75%                             1.000000   \n",
       "max                             1.000000   \n",
       "\n",
       "       Income_Verified_VERIFIED - income source  Income_Verified_not verified  \n",
       "count                             164309.000000                 164309.000000  \n",
       "mean                                   0.322654                      0.315704  \n",
       "std                                    0.467493                      0.464797  \n",
       "min                                    0.000000                      0.000000  \n",
       "25%                                    0.000000                      0.000000  \n",
       "50%                                    0.000000                      0.000000  \n",
       "75%                                    1.000000                      1.000000  \n",
       "max                                    1.000000                      1.000000  \n",
       "\n",
       "[8 rows x 29 columns]"
      ]
     },
     "execution_count": 163,
     "metadata": {},
     "output_type": "execute_result"
    }
   ],
   "source": [
    "df.describe()"
   ]
  },
  {
   "cell_type": "code",
   "execution_count": 164,
   "metadata": {},
   "outputs": [],
   "source": [
    "#use mean to fill Missing Data\n",
    "#df[\"Months_Since_Deliquency\"] = df[\"Months_Since_Deliquency\"].fillna(df[\"Months_Since_Deliquency\"].mean())"
   ]
  },
  {
   "cell_type": "code",
   "execution_count": 165,
   "metadata": {},
   "outputs": [
    {
     "name": "stdout",
     "output_type": "stream",
     "text": [
      "              Class: KernelDataSet\n",
      "         Iterations: 5\n",
      "  Imputed Variables: 3\n",
      "save_all_iterations: True\n"
     ]
    }
   ],
   "source": [
    "kds = mf.KernelDataSet(\n",
    "    df[list(set(df.columns) - set(['Interest_Rate']))],\n",
    "    save_all_iterations=True,\n",
    "    random_state=1991\n",
    ")\n",
    "\n",
    "kds.mice(5)\n",
    "\n",
    "# Return the completed kernel data\n",
    "df[list(set(df.columns) - set(['Interest_Rate']))] = kds.complete_data()\n",
    "print(kds)"
   ]
  },
  {
   "cell_type": "code",
   "execution_count": 166,
   "metadata": {},
   "outputs": [
    {
     "data": {
      "image/png": "[encoded data removed]",
      "text/plain": [
       "<Figure size 1152x360 with 4 Axes>"
      ]
     },
     "metadata": {
      "needs_background": "light"
     },
     "output_type": "display_data"
    },
    {
     "data": {
      "image/png": "[encoded data removed]",
      "text/plain": [
       "<Figure size 1152x360 with 4 Axes>"
      ]
     },
     "metadata": {
      "needs_background": "light"
     },
     "output_type": "display_data"
    }
   ],
   "source": [
    "#boxplots is similar for Home_Owner, Length_Employed,Total_Accounts,Number_Open_Accounts\n",
    "f, axes = plt.subplots(1, 4,sharex=True, figsize=(16,5))\n",
    "sns.boxplot(x=\"Interest_Rate\", y=\"Home_Owner\", data=df,ax=axes[0])\n",
    "sns.boxplot(x=\"Interest_Rate\", y=\"Length_Employed\", data=df,ax=axes[1])\n",
    "sns.boxplot(x=\"Interest_Rate\", y=\"Debt_To_Income\", data=df,ax=axes[2])\n",
    "sns.boxplot(x=\"Interest_Rate\", y=\"Inquiries_Last_6Mo\", data=df,ax=axes[3])\n",
    "f, axes = plt.subplots(1, 4,sharex=True, figsize=(16,5))\n",
    "sns.boxplot(x=\"Interest_Rate\", y=\"Total_Accounts\", data=df,ax=axes[0])\n",
    "sns.boxplot(x=\"Interest_Rate\", y=\"Number_Open_Accounts\", data=df,ax=axes[1])\n",
    "ax = sns.boxplot(x=\"Interest_Rate\", y=\"Inquiries_Last_6Mo\", data=df,ax=axes[2])\n",
    "ax = sns.boxplot(x=\"Interest_Rate\", y=\"Loan_Amount_Requested\", data=df,ax=axes[3])"
   ]
  },
  {
   "cell_type": "code",
   "execution_count": 167,
   "metadata": {},
   "outputs": [
    {
     "data": {
      "text/plain": [
       "<AxesSubplot:xlabel='Interest_Rate', ylabel='Months_Since_Deliquency'>"
      ]
     },
     "execution_count": 167,
     "metadata": {},
     "output_type": "execute_result"
    },
    {
     "data": {
      "image/png": "[encoded data removed]",
      "text/plain": [
       "<Figure size 432x288 with 1 Axes>"
      ]
     },
     "metadata": {
      "needs_background": "light"
     },
     "output_type": "display_data"
    }
   ],
   "source": [
    "sns.stripplot(x=\"Interest_Rate\", y=\"Months_Since_Deliquency\", data=df)"
   ]
  },
  {
   "cell_type": "code",
   "execution_count": 168,
   "metadata": {},
   "outputs": [
    {
     "data": {
      "text/plain": [
       "<AxesSubplot:xlabel='Interest_Rate', ylabel='Annual_Income'>"
      ]
     },
     "execution_count": 168,
     "metadata": {},
     "output_type": "execute_result"
    },
    {
     "data": {
      "image/png": "[encoded data removed]",
      "text/plain": [
       "<Figure size 432x288 with 1 Axes>"
      ]
     },
     "metadata": {
      "needs_background": "light"
     },
     "output_type": "display_data"
    }
   ],
   "source": [
    "sns.stripplot(x=\"Interest_Rate\", y=\"Annual_Income\", data=df)"
   ]
  },
  {
   "cell_type": "code",
   "execution_count": 189,
   "metadata": {},
   "outputs": [],
   "source": [
    "from sklearn.model_selection import train_test_split\n",
    "from sklearn.naive_bayes import GaussianNB\n",
    "df = df.sample(frac=1)\n",
    "col = list(set(df.columns) - set(['Interest_Rate',\"Loan_ID\"]))\n",
    "X = df[col]\n",
    "y = df['Interest_Rate']\n"
   ]
  },
  {
   "cell_type": "code",
   "execution_count": 190,
   "metadata": {},
   "outputs": [],
   "source": [
    "from sklearn.model_selection import train_test_split\n",
    "X_train, X_test, y_train, y_test = train_test_split(X, y, test_size=0.3, random_state=100)"
   ]
  },
  {
   "cell_type": "code",
   "execution_count": 191,
   "metadata": {},
   "outputs": [],
   "source": [
    "gnb = GaussianNB()\n",
    "y_pred_train = gnb.fit(X_train, y_train).predict(X_train)\n",
    "y_pred = gnb.predict(X_test)"
   ]
  },
  {
   "cell_type": "code",
   "execution_count": 192,
   "metadata": {},
   "outputs": [
    {
     "name": "stdout",
     "output_type": "stream",
     "text": [
      "Confusion matrix for train set\n",
      "[[  992 19162  3511]\n",
      " [ 1043 39128  9254]\n",
      " [  647 27015 14264]]\n",
      "Confusion matrix for test set\n",
      "[[  402  8169  1570]\n",
      " [  405 16735  4015]\n",
      " [  304 11581  6112]]\n"
     ]
    }
   ],
   "source": [
    "from sklearn.metrics import confusion_matrix\n",
    "print(\"Confusion matrix for train set\")\n",
    "cm = confusion_matrix(y_train, y_pred_train)\n",
    "print(cm)\n",
    "print(\"Confusion matrix for test set\")\n",
    "cm2 = confusion_matrix(y_test, y_pred)\n",
    "print(cm2)"
   ]
  },
  {
   "cell_type": "code",
   "execution_count": 193,
   "metadata": {},
   "outputs": [
    {
     "data": {
      "text/plain": [
       "Text(0.5, 1.0, 'Confusion Matrix')"
      ]
     },
     "execution_count": 193,
     "metadata": {},
     "output_type": "execute_result"
    },
    {
     "data": {
      "image/png": "[encoded data removed]",
      "text/plain": [
       "<Figure size 432x288 with 2 Axes>"
      ]
     },
     "metadata": {
      "needs_background": "light"
     },
     "output_type": "display_data"
    }
   ],
   "source": [
    "ax= plt.subplot()\n",
    "sns.heatmap(cm, annot=True)\n",
    "ax.set_xlabel('Predicted labels')\n",
    "ax.set_ylabel('True labels')\n",
    "ax.set_title('Confusion Matrix')"
   ]
  },
  {
   "cell_type": "code",
   "execution_count": 194,
   "metadata": {},
   "outputs": [
    {
     "data": {
      "text/plain": [
       "Text(0.5, 1.0, 'Confusion Matrix')"
      ]
     },
     "execution_count": 194,
     "metadata": {},
     "output_type": "execute_result"
    },
    {
     "data": {
      "image/png": "[encoded data removed]",
      "text/plain": [
       "<Figure size 432x288 with 2 Axes>"
      ]
     },
     "metadata": {
      "needs_background": "light"
     },
     "output_type": "display_data"
    }
   ],
   "source": [
    "ax= plt.subplot()\n",
    "sns.heatmap(cm2, annot=True)\n",
    "ax.set_xlabel('Predicted labels')\n",
    "ax.set_ylabel('True labels')\n",
    "ax.set_title('Confusion Matrix')"
   ]
  },
  {
   "cell_type": "code",
   "execution_count": 195,
   "metadata": {},
   "outputs": [
    {
     "name": "stdout",
     "output_type": "stream",
     "text": [
      "Accuracy: 0.4716491185361005\n"
     ]
    }
   ],
   "source": [
    "from sklearn import metrics\n",
    "print(\"Accuracy:\",metrics.accuracy_score(y_test, y_pred))"
   ]
  },
  {
   "cell_type": "code",
   "execution_count": 196,
   "metadata": {},
   "outputs": [],
   "source": [
    "from sklearn.linear_model import LogisticRegression\n",
    "model = LogisticRegression(max_iter=1000)\n",
    "y_pred_train2 = model.fit(X_train, y_train).predict(X_train)\n",
    "y_pred2 = model.fit(X_train, y_train).predict(X_test)"
   ]
  },
  {
   "cell_type": "code",
   "execution_count": 197,
   "metadata": {},
   "outputs": [
    {
     "name": "stdout",
     "output_type": "stream",
     "text": [
      "Confusion matrix for train set\n",
      "[[   75 18287  5303]\n",
      " [   91 36154 13180]\n",
      " [   78 25068 16780]]\n",
      "Confusion matrix for test set\n",
      "[[   38  7826  2277]\n",
      " [   34 15476  5645]\n",
      " [   30 10763  7204]]\n"
     ]
    }
   ],
   "source": [
    "print(\"Confusion matrix for train set\")\n",
    "cm = confusion_matrix(y_train, y_pred_train2)\n",
    "print(cm)\n",
    "print(\"Confusion matrix for test set\")\n",
    "cm2 = confusion_matrix(y_test, y_pred2)\n",
    "print(cm2)"
   ]
  },
  {
   "cell_type": "code",
   "execution_count": 198,
   "metadata": {
    "scrolled": true
   },
   "outputs": [
    {
     "data": {
      "text/plain": [
       "Text(0.5, 1.0, 'Confusion Matrix')"
      ]
     },
     "execution_count": 198,
     "metadata": {},
     "output_type": "execute_result"
    },
    {
     "data": {
      "image/png": "[encoded data removed]",
      "text/plain": [
       "<Figure size 432x288 with 2 Axes>"
      ]
     },
     "metadata": {
      "needs_background": "light"
     },
     "output_type": "display_data"
    }
   ],
   "source": [
    "ax= plt.subplot()\n",
    "sns.heatmap(cm, annot=True)\n",
    "ax.set_xlabel('Predicted labels')\n",
    "ax.set_ylabel('True labels')\n",
    "ax.set_title('Confusion Matrix')"
   ]
  },
  {
   "cell_type": "code",
   "execution_count": 199,
   "metadata": {},
   "outputs": [
    {
     "data": {
      "text/plain": [
       "Text(0.5, 1.0, 'Confusion Matrix')"
      ]
     },
     "execution_count": 199,
     "metadata": {},
     "output_type": "execute_result"
    },
    {
     "data": {
      "image/png": "[encoded data removed]",
      "text/plain": [
       "<Figure size 432x288 with 2 Axes>"
      ]
     },
     "metadata": {
      "needs_background": "light"
     },
     "output_type": "display_data"
    }
   ],
   "source": [
    "ax= plt.subplot()\n",
    "sns.heatmap(cm2, annot=True)\n",
    "ax.set_xlabel('Predicted labels')\n",
    "ax.set_ylabel('True labels')\n",
    "ax.set_title('Confusion Matrix')"
   ]
  },
  {
   "cell_type": "code",
   "execution_count": 200,
   "metadata": {},
   "outputs": [
    {
     "name": "stdout",
     "output_type": "stream",
     "text": [
      "Accuracy: 0.4608767979226259\n"
     ]
    }
   ],
   "source": [
    "print(\"Accuracy:\",metrics.accuracy_score(y_test, y_pred2))"
   ]
  },
  {
   "cell_type": "code",
   "execution_count": 201,
   "metadata": {},
   "outputs": [],
   "source": [
    "from sklearn.tree import DecisionTreeClassifier\n",
    "tree = DecisionTreeClassifier()\n",
    "y_pred_train3 = model.fit(X_train, y_train).predict(X_train)\n",
    "y_pred3 = model.fit(X_train, y_train).predict(X_test)"
   ]
  },
  {
   "cell_type": "code",
   "execution_count": 202,
   "metadata": {},
   "outputs": [
    {
     "name": "stdout",
     "output_type": "stream",
     "text": [
      "Confusion matrix for train set\n",
      "[[   75 18287  5303]\n",
      " [   91 36154 13180]\n",
      " [   78 25068 16780]]\n",
      "Confusion matrix for test set\n",
      "[[   38  7826  2277]\n",
      " [   34 15476  5645]\n",
      " [   30 10763  7204]]\n"
     ]
    }
   ],
   "source": [
    "print(\"Confusion matrix for train set\")\n",
    "cm = confusion_matrix(y_train, y_pred_train3)\n",
    "print(cm)\n",
    "print(\"Confusion matrix for test set\")\n",
    "cm2 = confusion_matrix(y_test, y_pred3)\n",
    "print(cm2)"
   ]
  },
  {
   "cell_type": "code",
   "execution_count": 203,
   "metadata": {
    "scrolled": true
   },
   "outputs": [
    {
     "data": {
      "text/plain": [
       "Text(0.5, 1.0, 'Confusion Matrix')"
      ]
     },
     "execution_count": 203,
     "metadata": {},
     "output_type": "execute_result"
    },
    {
     "data": {
      "image/png": "[encoded data removed]",
      "text/plain": [
       "<Figure size 432x288 with 2 Axes>"
      ]
     },
     "metadata": {
      "needs_background": "light"
     },
     "output_type": "display_data"
    }
   ],
   "source": [
    "ax= plt.subplot()\n",
    "sns.heatmap(cm, annot=True)\n",
    "ax.set_xlabel('Predicted labels')\n",
    "ax.set_ylabel('True labels')\n",
    "ax.set_title('Confusion Matrix')"
   ]
  },
  {
   "cell_type": "code",
   "execution_count": 204,
   "metadata": {},
   "outputs": [
    {
     "data": {
      "text/plain": [
       "Text(0.5, 1.0, 'Confusion Matrix')"
      ]
     },
     "execution_count": 204,
     "metadata": {},
     "output_type": "execute_result"
    },
    {
     "data": {
      "image/png": "[encoded data removed]",
      "text/plain": [
       "<Figure size 432x288 with 2 Axes>"
      ]
     },
     "metadata": {
      "needs_background": "light"
     },
     "output_type": "display_data"
    }
   ],
   "source": [
    "ax= plt.subplot()\n",
    "sns.heatmap(cm2, annot=True)\n",
    "ax.set_xlabel('Predicted labels')\n",
    "ax.set_ylabel('True labels')\n",
    "ax.set_title('Confusion Matrix')"
   ]
  },
  {
   "cell_type": "code",
   "execution_count": 205,
   "metadata": {},
   "outputs": [
    {
     "name": "stdout",
     "output_type": "stream",
     "text": [
      "Accuracy: 0.4608767979226259\n"
     ]
    }
   ],
   "source": [
    "print(\"Accuracy:\",metrics.accuracy_score(y_test, y_pred3))"
   ]
  },
  {
   "cell_type": "code",
   "execution_count": 206,
   "metadata": {},
   "outputs": [],
   "source": [
    "col = list(set(df.columns) - set(['Interest_Rate',\"Loan_ID\"]))\n",
    "X = df[col]\n",
    "y = df['Interest_Rate']\n",
    "X_train, X_test, y_train, y_test = train_test_split(X, y, test_size=0.3, random_state=100)"
   ]
  },
  {
   "cell_type": "code",
   "execution_count": 263,
   "metadata": {},
   "outputs": [],
   "source": [
    "col1 = list(set(X.columns) - set([\"Annual_Income\",\"Number_Open_Accounts\",\"Purpose_Of_Loan_vacation\",\n",
    "                                 ]))\n",
    "X_train1 = X_train[col1]\n",
    "X_test1 = X_test[col1]\n",
    "gnb = GaussianNB()\n",
    "y_pred_train = gnb.fit(X_train1, y_train).predict(X_train1)\n",
    "y_pred = gnb.predict(X_test1)\n"
   ]
  },
  {
   "cell_type": "code",
   "execution_count": 264,
   "metadata": {},
   "outputs": [
    {
     "name": "stdout",
     "output_type": "stream",
     "text": [
      "Accuracy: 0.49850891607327613\n"
     ]
    }
   ],
   "source": [
    "print(\"Accuracy:\",metrics.accuracy_score(y_test, y_pred))"
   ]
  },
  {
   "cell_type": "code",
   "execution_count": null,
   "metadata": {},
   "outputs": [],
   "source": []
  },
  {
   "cell_type": "code",
   "execution_count": null,
   "metadata": {},
   "outputs": [],
   "source": []
  }
 ],
 "metadata": {
  "kernelspec": {
   "display_name": "Python 3",
   "language": "python",
   "name": "python3"
  },
  "language_info": {
   "codemirror_mode": {
    "name": "ipython",
    "version": 3
   },
   "file_extension": ".py",
   "mimetype": "text/x-python",
   "name": "python",
   "nbconvert_exporter": "python",
   "pygments_lexer": "ipython3",
   "version": "3.8.5"
  }
 },
 "nbformat": 4,
 "nbformat_minor": 4
}
